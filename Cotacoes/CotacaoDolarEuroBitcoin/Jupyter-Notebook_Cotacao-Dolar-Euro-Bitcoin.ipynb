{
 "cells": [
  {
   "attachments": {},
   "cell_type": "markdown",
   "metadata": {},
   "source": [
    "# Jupyter Notebook - Acesso API de Cotação do Dólar, Euro e Bitcoin com Python \n",
    "\n",
    "Objetivo: Puxar o valor das cotações de forma automática e atualizada usando: https://docs.awesomeapi.com.br/api-de-moedas.\n"
   ]
  },
  {
   "cell_type": "code",
   "execution_count": 1,
   "metadata": {},
   "outputs": [
    {
     "name": "stdout",
     "output_type": "stream",
     "text": [
      "\n",
      " Cotação do Dólar Americano/Real Brasileiro:  4.9235\n",
      "\n",
      " Cotação do Euro/Real Brasileiro:  5.3068\n",
      "\n",
      " Cotação do Bitcoin/Real Brasileiro:  132146\n",
      "\n",
      " Cotações sem formatação: \n",
      " {'USDBRL': {'code': 'USD', 'codein': 'BRL', 'name': 'Dólar Americano/Real Brasileiro', 'high': '4.9237', 'low': '4.9237', 'varBid': '0.0003', 'pctChange': '0.01', 'bid': '4.9235', 'ask': '4.924', 'timestamp': '1686172102', 'create_date': '2023-06-07 18:08:22'}, 'EURBRL': {'code': 'EUR', 'codein': 'BRL', 'name': 'Euro/Real Brasileiro', 'high': '5.3112', 'low': '5.2655', 'varBid': '0.0407', 'pctChange': '0.77', 'bid': '5.3068', 'ask': '5.3148', 'timestamp': '1686241872', 'create_date': '2023-06-08 13:31:12'}, 'BTCBRL': {'code': 'BTC', 'codein': 'BRL', 'name': 'Bitcoin/Real Brasileiro', 'high': '132943', 'low': '129566', 'varBid': '2144', 'pctChange': '1.65', 'bid': '132146', 'ask': '132178', 'timestamp': '1686241878', 'create_date': '2023-06-08 13:31:18'}}\n"
     ]
    }
   ],
   "source": [
    "import requests\n",
    "import json\n",
    "\n",
    "cotacoes = requests.get(\"https://economia.awesomeapi.com.br/last/USD-BRL,EUR-BRL,BTC-BRL\")\n",
    "cotacoes = cotacoes.json()\n",
    "cotacao_dolar = cotacoes['USDBRL'][\"bid\"]\n",
    "cotacao_euro = cotacoes['EURBRL'][\"bid\"]\n",
    "cotacao_bitcoin = cotacoes['BTCBRL'][\"bid\"]\n",
    "\n",
    "print(\"\\n Cotação do Dólar Americano/Real Brasileiro: \", cotacao_dolar)\n",
    "print(\"\\n Cotação do Euro/Real Brasileiro: \", cotacao_euro)\n",
    "print(\"\\n Cotação do Bitcoin/Real Brasileiro: \", cotacao_bitcoin)\n",
    "print(\"\\n Cotações sem formatação: \\n\",cotacoes)"
   ]
  }
 ],
 "metadata": {
  "kernelspec": {
   "display_name": "Python 3",
   "language": "python",
   "name": "python3"
  },
  "language_info": {
   "codemirror_mode": {
    "name": "ipython",
    "version": 3
   },
   "file_extension": ".py",
   "mimetype": "text/x-python",
   "name": "python",
   "nbconvert_exporter": "python",
   "pygments_lexer": "ipython3",
   "version": "3.11.2"
  }
 },
 "nbformat": 4,
 "nbformat_minor": 5
}
